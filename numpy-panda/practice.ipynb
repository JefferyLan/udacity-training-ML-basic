{
 "cells": [
  {
   "cell_type": "code",
   "execution_count": 8,
   "metadata": {},
   "outputs": [
    {
     "name": "stdout",
     "output_type": "stream",
     "text": [
      "x =  [1 2 3 4 5]\n",
      "x has dimensions: (5,)\n",
      "x is an object of type: <class 'numpy.ndarray'>\n",
      "The elements in x are of type: int32\n"
     ]
    }
   ],
   "source": [
    "import numpy as np\n",
    "x = np.array([1, 2, 3, 4, 5])\n",
    "print('x = ', x)\n",
    "print('x has dimensions:', x.shape)\n",
    "print('x is an object of type:', type(x))\n",
    "print('The elements in x are of type:', x.dtype)"
   ]
  },
  {
   "cell_type": "code",
   "execution_count": 5,
   "metadata": {},
   "outputs": [
    {
     "data": {
      "text/plain": [
       "array([ 2.   ,  3.875,  5.75 ,  7.625,  9.5  , 11.375, 13.25 , 15.125,\n",
       "       17.   , 18.875, 20.75 , 22.625, 24.5  , 26.375, 28.25 , 30.125])"
      ]
     },
     "execution_count": 5,
     "metadata": {},
     "output_type": "execute_result"
    }
   ],
   "source": [
    "np.linspace(2, 32, 16, endpoint=False)"
   ]
  },
  {
   "cell_type": "code",
   "execution_count": 6,
   "metadata": {},
   "outputs": [
    {
     "data": {
      "text/plain": [
       "array([ 2.,  4.,  6.,  8., 10., 12., 14., 16., 18., 20., 22., 24., 26.,\n",
       "       28., 30., 32.])"
      ]
     },
     "execution_count": 6,
     "metadata": {},
     "output_type": "execute_result"
    }
   ],
   "source": [
    "np.linspace(2, 32, 16, 2)"
   ]
  },
  {
   "cell_type": "code",
   "execution_count": 7,
   "metadata": {},
   "outputs": [
    {
     "data": {
      "text/plain": [
       "array([[ 2.,  4.,  6.,  8.],\n",
       "       [10., 12., 14., 16.],\n",
       "       [18., 20., 22., 24.],\n",
       "       [26., 28., 30., 32.]])"
      ]
     },
     "execution_count": 7,
     "metadata": {},
     "output_type": "execute_result"
    }
   ],
   "source": [
    "np.linspace(2, 32, 16, 2).reshape(4,4)"
   ]
  },
  {
   "cell_type": "code",
   "execution_count": 8,
   "metadata": {},
   "outputs": [],
   "source": [
    "x = np.array([1, 2, 3, 4, 5])"
   ]
  },
  {
   "cell_type": "code",
   "execution_count": 9,
   "metadata": {},
   "outputs": [
    {
     "name": "stdout",
     "output_type": "stream",
     "text": [
      "[1 2 3 4 5]\n"
     ]
    }
   ],
   "source": [
    "print(x)"
   ]
  },
  {
   "cell_type": "code",
   "execution_count": 11,
   "metadata": {},
   "outputs": [
    {
     "name": "stdout",
     "output_type": "stream",
     "text": [
      "[[ 1  2  3]\n",
      " [ 4  5  6]\n",
      " [ 7  8  9]\n",
      " [10 11 12]]\n",
      "[[10  2  3]\n",
      " [ 4  5  6]\n",
      " [ 7  8  9]\n",
      " [10 11 12]]\n"
     ]
    }
   ],
   "source": [
    "x = np.array([[1,2,3],[4,5,6],[7,8,9],[10,11,12]])\n",
    "print(x)\n",
    "x[0,0] = 10\n",
    "print(x)"
   ]
  },
  {
   "cell_type": "code",
   "execution_count": 12,
   "metadata": {},
   "outputs": [
    {
     "name": "stdout",
     "output_type": "stream",
     "text": [
      "[[ 4  5  6]\n",
      " [ 7  8  9]\n",
      " [10 11 12]]\n"
     ]
    }
   ],
   "source": [
    "y = np.delete(x, 0, axis = 0)\n",
    "print(y)"
   ]
  },
  {
   "cell_type": "code",
   "execution_count": 13,
   "metadata": {},
   "outputs": [
    {
     "name": "stdout",
     "output_type": "stream",
     "text": [
      "[[ 4]\n",
      " [ 7]\n",
      " [10]]\n"
     ]
    }
   ],
   "source": [
    "y = np.delete(y, [1,2], axis = 1)\n",
    "print(y)"
   ]
  },
  {
   "cell_type": "code",
   "execution_count": 18,
   "metadata": {},
   "outputs": [
    {
     "name": "stdout",
     "output_type": "stream",
     "text": [
      "[[ 4  5  8 11]\n",
      " [ 7  6  9 12]\n",
      " [10  3  5  9]]\n"
     ]
    }
   ],
   "source": [
    "z = np.append(y,[[5,8,11],[6,9,12],[3,5,9]],axis=1)\n",
    "print(z)"
   ]
  },
  {
   "cell_type": "code",
   "execution_count": 19,
   "metadata": {},
   "outputs": [
    {
     "name": "stdout",
     "output_type": "stream",
     "text": [
      "[[ 4  5  8 11]\n",
      " [ 7  6  9 12]\n",
      " [10  3  5  9]\n",
      " [ 5  8 11 22]\n",
      " [ 6  9 12 44]\n",
      " [ 3  5  9 90]]\n"
     ]
    }
   ],
   "source": [
    "z1 = np.append(z,[[5,8,11,22],[6,9,12,44],[3,5,9,90]],axis=0)\n",
    "print(z1)"
   ]
  },
  {
   "cell_type": "code",
   "execution_count": 20,
   "metadata": {},
   "outputs": [
    {
     "name": "stdout",
     "output_type": "stream",
     "text": [
      "[[ 4 10  5  8 11]\n",
      " [ 7 10  6  9 12]\n",
      " [10 10  3  5  9]\n",
      " [ 5 10  8 11 22]\n",
      " [ 6 10  9 12 44]\n",
      " [ 3 10  5  9 90]]\n"
     ]
    }
   ],
   "source": [
    "z2 = np.insert(z1, 1,10, axis = 1)\n",
    "print(z2)"
   ]
  },
  {
   "cell_type": "code",
   "execution_count": 21,
   "metadata": {},
   "outputs": [
    {
     "name": "stdout",
     "output_type": "stream",
     "text": [
      "[[ 4 10  5  8 11]\n",
      " [ 2  3  4  5  6]\n",
      " [ 7 10  6  9 12]\n",
      " [10 10  3  5  9]\n",
      " [ 5 10  8 11 22]\n",
      " [ 6 10  9 12 44]\n",
      " [ 3 10  5  9 90]]\n"
     ]
    }
   ],
   "source": [
    "z3 = np.insert(z2, 1, [2,3,4,5,6], axis=0)\n",
    "print(z3)"
   ]
  },
  {
   "cell_type": "code",
   "execution_count": 23,
   "metadata": {},
   "outputs": [
    {
     "name": "stdout",
     "output_type": "stream",
     "text": [
      "[[ 4 10  5  8 11]\n",
      " [ 7 10  6  9 12]\n",
      " [10 10  3  5  9]\n",
      " [ 5 10  8 11 22]\n",
      " [ 6 10  9 12 44]\n",
      " [ 3 10  5  9 90]\n",
      " [ 4 10  5  8 11]\n",
      " [ 2  3  4  5  6]\n",
      " [ 7 10  6  9 12]\n",
      " [10 10  3  5  9]\n",
      " [ 5 10  8 11 22]\n",
      " [ 6 10  9 12 44]\n",
      " [ 3 10  5  9 90]]\n"
     ]
    }
   ],
   "source": [
    "z4 = np.vstack((z2, z3))\n",
    "print(z4)"
   ]
  },
  {
   "cell_type": "code",
   "execution_count": 24,
   "metadata": {},
   "outputs": [
    {
     "name": "stdout",
     "output_type": "stream",
     "text": [
      "[[ 4 10  5  8 11  4 10  5  8 11]\n",
      " [ 7 10  6  9 12  7 10  6  9 12]\n",
      " [10 10  3  5  9 10 10  3  5  9]\n",
      " [ 5 10  8 11 22  5 10  8 11 22]\n",
      " [ 6 10  9 12 44  6 10  9 12 44]\n",
      " [ 3 10  5  9 90  3 10  5  9 90]]\n"
     ]
    }
   ],
   "source": [
    "z5 = np.hstack((z2,z2))\n",
    "print(z5)"
   ]
  },
  {
   "cell_type": "code",
   "execution_count": 30,
   "metadata": {},
   "outputs": [
    {
     "name": "stdout",
     "output_type": "stream",
     "text": [
      "[[ 0  1  2  3  4]\n",
      " [ 5  6  7  8  9]\n",
      " [10 11 12 13 14]\n",
      " [15 16 17 18 19]]\n",
      "[[ 7  8  9]\n",
      " [12 13 14]\n",
      " [17 18 19]]\n"
     ]
    }
   ],
   "source": [
    "x = np.arange(20).reshape(4,5)\n",
    "print(x)\n",
    "print(x[1:4, 2:5])"
   ]
  },
  {
   "cell_type": "code",
   "execution_count": 36,
   "metadata": {},
   "outputs": [
    {
     "name": "stdout",
     "output_type": "stream",
     "text": [
      "[[ 2  3  4]\n",
      " [ 7  8  9]\n",
      " [20 13 14]\n",
      " [17 18 19]]\n"
     ]
    }
   ],
   "source": [
    "y = x[:,2:].copy()\n",
    "print(y)"
   ]
  },
  {
   "cell_type": "code",
   "execution_count": 38,
   "metadata": {},
   "outputs": [
    {
     "name": "stdout",
     "output_type": "stream",
     "text": [
      "[[ 2  3  4]\n",
      " [ 7  8  9]\n",
      " [20 13 14]\n",
      " [17 18 19]]\n"
     ]
    }
   ],
   "source": [
    "x[2,2] = 30\n",
    "print(y)"
   ]
  },
  {
   "cell_type": "code",
   "execution_count": 40,
   "metadata": {},
   "outputs": [
    {
     "name": "stdout",
     "output_type": "stream",
     "text": [
      "[ 2  8 14]\n"
     ]
    }
   ],
   "source": [
    "diag = np.diag(y)\n",
    "print(diag)"
   ]
  },
  {
   "cell_type": "code",
   "execution_count": 41,
   "metadata": {},
   "outputs": [
    {
     "name": "stdout",
     "output_type": "stream",
     "text": [
      "[3 9]\n",
      "[4]\n",
      "[ 7 13 19]\n",
      "[20 18]\n"
     ]
    }
   ],
   "source": [
    "print(np.diag(y, k =1))\n",
    "print(np.diag(y, k =2))\n",
    "print(np.diag(y, k =-1))\n",
    "print(np.diag(y, k =-2))\n"
   ]
  },
  {
   "cell_type": "code",
   "execution_count": 42,
   "metadata": {},
   "outputs": [
    {
     "name": "stdout",
     "output_type": "stream",
     "text": [
      "[ 2  3  4  7  8  9 13 14 17 18 19 20]\n"
     ]
    }
   ],
   "source": [
    "print(np.unique(y))"
   ]
  },
  {
   "cell_type": "code",
   "execution_count": 50,
   "metadata": {},
   "outputs": [
    {
     "name": "stdout",
     "output_type": "stream",
     "text": [
      "X + Y = \n",
      " [[ 7  9]\n",
      " [11 13]]\n",
      "X - Y = \n",
      " [[-5 -5]\n",
      " [-5 -5]]\n",
      "X * Y = \n",
      " [[ 6 14]\n",
      " [24 36]]\n",
      "X / Y = \n",
      " [[0.16666667 0.28571429]\n",
      " [0.375      0.44444444]]\n",
      "Exp(X) = \n",
      " [[ 2.71828183  7.3890561 ]\n",
      " [20.08553692 54.59815003]]\n",
      "SQRT(X) = \n",
      " [[1.         1.41421356]\n",
      " [1.73205081 2.        ]]\n",
      "POW(X) = \n",
      " [[ 1  4]\n",
      " [ 9 16]]\n"
     ]
    }
   ],
   "source": [
    "X = np.array([1,2,3,4]).reshape(2,2)\n",
    "Y = np.array([6,7,8,9]).reshape(2,2)\n",
    "print(\"X + Y = \\n\", X + Y)\n",
    "print(\"X - Y = \\n\", X - Y)\n",
    "print(\"X * Y = \\n\", X * Y)\n",
    "print(\"X / Y = \\n\", X / Y)\n",
    "\n",
    "print(\"Exp(X) = \\n\", np.exp(X))\n",
    "print(\"SQRT(X) = \\n\", np.sqrt(X))\n",
    "print(\"POW(X) = \\n\", np.power(X, 2))\n",
    "\n",
    "\n"
   ]
  },
  {
   "cell_type": "code",
   "execution_count": 51,
   "metadata": {},
   "outputs": [
    {
     "name": "stdout",
     "output_type": "stream",
     "text": [
      "X = \n",
      " [[1 2]\n",
      " [3 4]]\n",
      "max(X) = \n",
      " 4\n",
      "max(X) axis =0 \n",
      " [3 4]\n",
      "max(X) axis =1 \n",
      " [2 4]\n",
      "min(X) = \n",
      " 1\n",
      "min(X) axis =0 \n",
      " [1 2]\n",
      "min(X) axis =1 \n",
      " [1 3]\n",
      "sum(X) = \n",
      " 10\n",
      "sum(X) axis =0 \n",
      " [4 6]\n",
      "sum(X) axis =1 \n",
      " [3 7]\n"
     ]
    }
   ],
   "source": [
    "print(\"X = \\n\", X)\n",
    "\n",
    "print(\"max(X) = \\n\", np.max(X))\n",
    "print(\"max(X) axis =0 \\n\", np.max(X, axis = 0))\n",
    "print(\"max(X) axis =1 \\n\", np.max(X, axis = 1))\n",
    "\n",
    "print(\"min(X) = \\n\", np.min(X))\n",
    "print(\"min(X) axis =0 \\n\", np.min(X, axis = 0))\n",
    "print(\"min(X) axis =1 \\n\", np.min(X, axis = 1))\n",
    "\n",
    "print(\"sum(X) = \\n\", np.sum(X))\n",
    "print(\"sum(X) axis =0 \\n\", np.sum(X, axis = 0))\n",
    "print(\"sum(X) axis =1 \\n\", np.sum(X, axis = 1))\n"
   ]
  },
  {
   "cell_type": "code",
   "execution_count": 52,
   "metadata": {},
   "outputs": [
    {
     "name": "stdout",
     "output_type": "stream",
     "text": [
      "X = \n",
      " [[1 2]\n",
      " [3 4]]\n",
      "mean(X) = \n",
      " 2.5\n",
      "mean(X) axis =0 \n",
      " [2. 3.]\n",
      "mean(X) axis =1 \n",
      " [1.5 3.5]\n",
      "median(X) = \n",
      " 2.5\n",
      "median(X) axis =0 \n",
      " [2. 3.]\n",
      "median(X) axis =1 \n",
      " [1.5 3.5]\n",
      "std(X) = \n",
      " 1.118033988749895\n",
      "std(X) axis =0 \n",
      " [1. 1.]\n",
      "std(X) axis =1 \n",
      " [0.5 0.5]\n"
     ]
    }
   ],
   "source": [
    "print(\"X = \\n\", X)\n",
    "\n",
    "print(\"mean(X) = \\n\", np.mean(X))\n",
    "print(\"mean(X) axis =0 \\n\", np.mean(X, axis = 0))\n",
    "print(\"mean(X) axis =1 \\n\", np.mean(X, axis = 1))\n",
    "\n",
    "print(\"median(X) = \\n\", np.median(X))\n",
    "print(\"median(X) axis =0 \\n\", np.median(X, axis = 0))\n",
    "print(\"median(X) axis =1 \\n\", np.median(X, axis = 1))\n",
    "\n",
    "\n",
    "\n",
    "print(\"std(X) = \\n\", np.std(X))\n",
    "print(\"std(X) axis =0 \\n\", np.std(X, axis = 0))\n",
    "print(\"std(X) axis =1 \\n\", np.std(X, axis = 1))"
   ]
  },
  {
   "cell_type": "code",
   "execution_count": 4,
   "metadata": {},
   "outputs": [
    {
     "name": "stdout",
     "output_type": "stream",
     "text": [
      "eggs       30\n",
      "apples      6\n",
      "milk      Yes\n",
      "bread      No\n",
      "dtype: object\n",
      "groceries shape =  (4,)\n",
      "groceries dimension =  1\n",
      "groceries size =  4 elements\n",
      "groceries values =  [30 6 'Yes' 'No']\n",
      "groceries indices =  Index(['eggs', 'apples', 'milk', 'bread'], dtype='object')\n",
      "Is 'banana' in groceries =  False\n",
      "Is 'bread' in groceries =  True\n"
     ]
    }
   ],
   "source": [
    "import pandas as pd\n",
    "\n",
    "groceries = pd.Series(data = [30, 6, 'Yes', 'No'], index = ['eggs', 'apples', 'milk', 'bread'])\n",
    "\n",
    "print(groceries)\n",
    "print(\"groceries shape = \", groceries.shape)\n",
    "print(\"groceries dimension = \", groceries.ndim)\n",
    "print(\"groceries size = \", groceries.size, \"elements\")\n",
    "\n",
    "print(\"groceries values = \", groceries.values)\n",
    "print(\"groceries indices = \", groceries.index)\n",
    "\n",
    "print(\"Is 'banana' in groceries = \", 'banban' in groceries)\n",
    "print(\"Is 'bread' in groceries = \", 'bread' in groceries)"
   ]
  },
  {
   "cell_type": "code",
   "execution_count": 5,
   "metadata": {},
   "outputs": [
    {
     "name": "stdout",
     "output_type": "stream",
     "text": [
      "apple     1\n",
      "banana    2\n",
      "grape     3\n",
      "dtype: int64\n"
     ]
    }
   ],
   "source": [
    "# 练习 pandas series， 处理一维数据\n",
    "\n",
    "fruits = pd.Series(data=[1,2,3], index=['apple', 'banana', 'grape'])\n",
    "print(fruits)"
   ]
  },
  {
   "cell_type": "code",
   "execution_count": 9,
   "metadata": {},
   "outputs": [
    {
     "name": "stdout",
     "output_type": "stream",
     "text": [
      "fruits + 2 = \n",
      " apple     3\n",
      "banana    4\n",
      "grape     5\n",
      "dtype: int64\n",
      "fruits - 3 = \n",
      " apple    -2\n",
      "banana   -1\n",
      "grape     0\n",
      "dtype: int64\n",
      "fruits / 2 = \n",
      " apple     0.5\n",
      "banana    1.0\n",
      "grape     1.5\n",
      "dtype: float64\n",
      "fruits * 2 = \n",
      " apple     2\n",
      "banana    4\n",
      "grape     6\n",
      "dtype: int64\n",
      "fruits ** 2 = \n",
      " apple     1\n",
      "banana    4\n",
      "grape     9\n",
      "dtype: int64\n",
      " EXP(fruits) = \n",
      " apple      2.718282\n",
      "banana     7.389056\n",
      "grape     20.085537\n",
      "dtype: float64\n",
      " POWER(fruits, 2) = \n",
      " apple     1\n",
      "banana    4\n",
      "grape     9\n",
      "dtype: int64\n",
      " SQRT(fruits) = \n",
      " apple     1.000000\n",
      "banana    1.414214\n",
      "grape     1.732051\n",
      "dtype: float64\n"
     ]
    }
   ],
   "source": [
    "print(\"fruits + 2 = \\n\", fruits + 2)\n",
    "print(\"fruits - 3 = \\n\",fruits - 3)\n",
    "print(\"fruits / 2 = \\n\",fruits / 2)\n",
    "print(\"fruits * 2 = \\n\",fruits * 2)\n",
    "print(\"fruits ** 2 = \\n\",fruits ** 2)\n",
    "print(\" EXP(fruits) = \\n\", np.exp(fruits))\n",
    "print(\" POWER(fruits, 2) = \\n\", np.power(fruits, 2))\n",
    "print(\" SQRT(fruits) = \\n\", np.sqrt(fruits))\n"
   ]
  },
  {
   "cell_type": "code",
   "execution_count": 11,
   "metadata": {},
   "outputs": [
    {
     "name": "stdout",
     "output_type": "stream",
     "text": [
      "dist_planets = \n",
      " Earth       149.6\n",
      "Saturn     1433.5\n",
      "Mars        227.9\n",
      "Venus       108.2\n",
      "Jupiter     778.6\n",
      "dtype: float64\n",
      "time_light = \n",
      " Earth       8.311111\n",
      "Saturn     79.638889\n",
      "Mars       12.661111\n",
      "Venus       6.011111\n",
      "Jupiter    43.255556\n",
      "dtype: float64\n",
      "close_planets = \n",
      " Earth     8.311111\n",
      "Mars     12.661111\n",
      "Venus     6.011111\n",
      "dtype: float64\n"
     ]
    }
   ],
   "source": [
    "import pandas as pd\n",
    "\n",
    "# Create a Pandas Series that contains the distance of some planets from the Sun.\n",
    "# Use the name of the planets as the index to your Pandas Series, and the distance\n",
    "# from the Sun as your data. The distance from the Sun is in units of 10^6 km\n",
    "\n",
    "distance_from_sun = [149.6, 1433.5, 227.9, 108.2, 778.6]\n",
    "\n",
    "planets = ['Earth','Saturn', 'Mars','Venus', 'Jupiter']\n",
    "\n",
    "# Create a Pandas Series using the above data, with the name of the planets as\n",
    "# the index and the distance from the Sun as your data.\n",
    "dist_planets = pd.Series(data=distance_from_sun, index = planets)\n",
    "\n",
    "# Calculate the number of minutes it takes sunlight to reach each planet. You can\n",
    "# do this by dividing the distance from the Sun for each planet by the speed of light.\n",
    "# Since in the data above the distance from the Sun is in units of 10^6 km, you can\n",
    "# use a value for the speed of light of c = 18, since light travels 18 x 10^6 km/minute.\n",
    "time_light = dist_planets / 18\n",
    "\n",
    "# Use Boolean indexing to select only those planets for which sunlight takes less\n",
    "# than 40 minutes to reach them.\n",
    "close_planets = time_light[time_light<=40]\n",
    "\n",
    "print(\"dist_planets = \\n\", dist_planets)\n",
    "print(\"time_light = \\n\", time_light)\n",
    "print(\"close_planets = \\n\", close_planets)"
   ]
  },
  {
   "cell_type": "code",
   "execution_count": 23,
   "metadata": {},
   "outputs": [
    {
     "name": "stdout",
     "output_type": "stream",
     "text": [
      "      Bob\n",
      "bike  245\n",
      "shape = \n",
      " (1, 1)\n",
      "dimension \n",
      " 2\n",
      "total elements \n",
      " 1\n",
      "row index \n",
      " Index(['bike'], dtype='object')\n",
      "list each elements \n",
      " [[245]]\n",
      "column index \n",
      " Index(['Bob'], dtype='object')\n"
     ]
    }
   ],
   "source": [
    "# 练习Pandas DataFrame，专门处理二维数据，类似Excel,\n",
    "# 注意比较Numpy narray方法\n",
    "\n",
    "items = {'Bob' : pd.Series(data = [245, 25, 55], index = ['bike', 'pants', 'watch']),\n",
    "         'Alice' : pd.Series(data = [40, 110, 500, 45], index = ['book', 'glasses', 'bike', 'pants'])}\n",
    "dataframe = pd.DataFrame(items, index=['bike'], columns = ['Bob'])\n",
    "print(dataframe)\n",
    "\n",
    "print(\"shape = \\n\", dataframe.shape)\n",
    "print(\"dimension \\n\", dataframe.ndim)\n",
    "print(\"total elements \\n\", dataframe.size)\n",
    "print(\"row index \\n\", dataframe.index)\n",
    "print(\"list each elements \\n\", dataframe.values)\n",
    "print(\"column index \\n\", dataframe.columns)"
   ]
  },
  {
   "cell_type": "code",
   "execution_count": 18,
   "metadata": {},
   "outputs": [
    {
     "name": "stdout",
     "output_type": "stream",
     "text": [
      "   Bob  Alice\n",
      "0    1    5.0\n",
      "1    2    6.0\n",
      "2    3    7.0\n",
      "3    6    NaN\n",
      "shape = \n",
      " (4, 2)\n",
      "dimension \n",
      " 2\n",
      "total elements \n",
      " 8\n",
      "row index \n",
      " RangeIndex(start=0, stop=4, step=1)\n",
      "list each elements \n",
      " [[ 1.  5.]\n",
      " [ 2.  6.]\n",
      " [ 3.  7.]\n",
      " [ 6. nan]]\n",
      "column index \n",
      " Index(['Bob', 'Alice'], dtype='object')\n"
     ]
    }
   ],
   "source": [
    "data = {'Bob': pd.Series(data=[1,2,3,6]),\n",
    "        'Alice': pd.Series(data=[5,6,7])}\n",
    "dataframe = pd.DataFrame(data)\n",
    "print(dataframe)\n",
    "\n",
    "print(\"shape = \\n\", dataframe.shape)\n",
    "print(\"dimension \\n\", dataframe.ndim)\n",
    "print(\"total elements \\n\", dataframe.size)\n",
    "print(\"row index \\n\", dataframe.index)\n",
    "print(\"list each elements \\n\", dataframe.values)\n",
    "print(\"column index \\n\", dataframe.columns)"
   ]
  },
  {
   "cell_type": "code",
   "execution_count": null,
   "metadata": {},
   "outputs": [],
   "source": []
  }
 ],
 "metadata": {
  "kernelspec": {
   "display_name": "Python 3",
   "language": "python",
   "name": "python3"
  },
  "language_info": {
   "codemirror_mode": {
    "name": "ipython",
    "version": 3
   },
   "file_extension": ".py",
   "mimetype": "text/x-python",
   "name": "python",
   "nbconvert_exporter": "python",
   "pygments_lexer": "ipython3",
   "version": "3.6.5"
  }
 },
 "nbformat": 4,
 "nbformat_minor": 2
}
