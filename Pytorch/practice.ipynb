{
 "cells": [
  {
   "cell_type": "code",
   "execution_count": 12,
   "metadata": {},
   "outputs": [
    {
     "data": {
      "text/plain": [
       "tensor([[9.1834e-41, 0.0000e+00, 0.0000e+00],\n",
       "        [0.0000e+00, 0.0000e+00, 0.0000e+00],\n",
       "        [0.0000e+00, 0.0000e+00, 0.0000e+00],\n",
       "        [0.0000e+00, 1.2948e-42, 0.0000e+00],\n",
       "        [0.0000e+00, 3.5063e-01, 0.0000e+00]])"
      ]
     },
     "execution_count": 12,
     "metadata": {},
     "output_type": "execute_result"
    }
   ],
   "source": [
    "#practise pytorch\n",
    "#Tensor, (vector for 1 D, matrix for 2D,.... )\n",
    "from __future__ import print_function\n",
    "import torch as t\n",
    "import numpy as np\n",
    "# 构建 5*3 矩阵, 只是分配空间，未初始化\n",
    "x = t.Tensor(5, 3)\n",
    "x\n"
   ]
  },
  {
   "cell_type": "code",
   "execution_count": 13,
   "metadata": {},
   "outputs": [
    {
     "data": {
      "text/plain": [
       "tensor([[0.8415, 0.7503, 0.4877],\n",
       "        [0.0555, 0.3417, 0.2958],\n",
       "        [0.5302, 0.0972, 0.9777],\n",
       "        [0.6870, 0.9510, 0.7671],\n",
       "        [0.7909, 0.0477, 0.4079]])"
      ]
     },
     "execution_count": 13,
     "metadata": {},
     "output_type": "execute_result"
    }
   ],
   "source": [
    "# 使用[0, 1]均匀分布随机初始化二维数组\n",
    "x = t.rand(5, 3)\n",
    "x"
   ]
  },
  {
   "cell_type": "code",
   "execution_count": 3,
   "metadata": {},
   "outputs": [
    {
     "name": "stdout",
     "output_type": "stream",
     "text": [
      "torch.Size([5, 3])\n"
     ]
    },
    {
     "data": {
      "text/plain": [
       "(5, 3)"
      ]
     },
     "execution_count": 3,
     "metadata": {},
     "output_type": "execute_result"
    }
   ],
   "source": [
    "print(x.size())\n",
    "x.size()[0], x.size(1)"
   ]
  },
  {
   "cell_type": "code",
   "execution_count": 4,
   "metadata": {},
   "outputs": [
    {
     "data": {
      "text/plain": [
       "tensor([[0.5937, 0.4054, 0.7339],\n",
       "        [0.1190, 0.9442, 0.5900],\n",
       "        [0.2999, 0.3771, 0.4538],\n",
       "        [0.9195, 0.7883, 0.9799],\n",
       "        [0.5684, 0.2640, 0.5995]])"
      ]
     },
     "execution_count": 4,
     "metadata": {},
     "output_type": "execute_result"
    }
   ],
   "source": [
    "# torch.Size 是tuple对象的子类\n",
    "y = t.rand(5, 3)\n",
    "y"
   ]
  },
  {
   "cell_type": "code",
   "execution_count": 5,
   "metadata": {},
   "outputs": [
    {
     "data": {
      "text/plain": [
       "tensor([[0.6646, 0.9130, 1.4874],\n",
       "        [0.1410, 1.1279, 0.9993],\n",
       "        [0.5938, 0.5116, 0.7039],\n",
       "        [1.8269, 0.9613, 1.0165],\n",
       "        [1.4339, 0.3506, 1.0142]])"
      ]
     },
     "execution_count": 5,
     "metadata": {},
     "output_type": "execute_result"
    }
   ],
   "source": [
    "x + y"
   ]
  },
  {
   "cell_type": "code",
   "execution_count": 6,
   "metadata": {},
   "outputs": [
    {
     "data": {
      "text/plain": [
       "tensor([[0.6646, 0.9130, 1.4874],\n",
       "        [0.1410, 1.1279, 0.9993],\n",
       "        [0.5938, 0.5116, 0.7039],\n",
       "        [1.8269, 0.9613, 1.0165],\n",
       "        [1.4339, 0.3506, 1.0142]])"
      ]
     },
     "execution_count": 6,
     "metadata": {},
     "output_type": "execute_result"
    }
   ],
   "source": [
    "t.add(x, y)"
   ]
  },
  {
   "cell_type": "code",
   "execution_count": 7,
   "metadata": {},
   "outputs": [],
   "source": [
    "z = t.add(x, y)"
   ]
  },
  {
   "cell_type": "code",
   "execution_count": 8,
   "metadata": {},
   "outputs": [
    {
     "data": {
      "text/plain": [
       "tensor([[0.6646, 0.9130, 1.4874],\n",
       "        [0.1410, 1.1279, 0.9993],\n",
       "        [0.5938, 0.5116, 0.7039],\n",
       "        [1.8269, 0.9613, 1.0165],\n",
       "        [1.4339, 0.3506, 1.0142]])"
      ]
     },
     "execution_count": 8,
     "metadata": {},
     "output_type": "execute_result"
    }
   ],
   "source": [
    "z"
   ]
  },
  {
   "cell_type": "code",
   "execution_count": 9,
   "metadata": {},
   "outputs": [
    {
     "data": {
      "text/plain": [
       "tensor([[0.6646, 0.9130, 1.4874],\n",
       "        [0.1410, 1.1279, 0.9993],\n",
       "        [0.5938, 0.5116, 0.7039],\n",
       "        [1.8269, 0.9613, 1.0165],\n",
       "        [1.4339, 0.3506, 1.0142]])"
      ]
     },
     "execution_count": 9,
     "metadata": {},
     "output_type": "execute_result"
    }
   ],
   "source": [
    "x.add(y)"
   ]
  },
  {
   "cell_type": "code",
   "execution_count": 10,
   "metadata": {},
   "outputs": [
    {
     "data": {
      "text/plain": [
       "tensor([[0.6646, 0.9130, 1.4874],\n",
       "        [0.1410, 1.1279, 0.9993],\n",
       "        [0.5938, 0.5116, 0.7039],\n",
       "        [1.8269, 0.9613, 1.0165],\n",
       "        [1.4339, 0.3506, 1.0142]])"
      ]
     },
     "execution_count": 10,
     "metadata": {},
     "output_type": "execute_result"
    }
   ],
   "source": [
    "x.add_(y)"
   ]
  },
  {
   "cell_type": "code",
   "execution_count": 11,
   "metadata": {},
   "outputs": [
    {
     "data": {
      "text/plain": [
       "array([[0.66461754, 0.9129718 , 1.4874167 ],\n",
       "       [0.14098221, 1.1279081 , 0.99933726],\n",
       "       [0.5937922 , 0.5116101 , 0.7039032 ],\n",
       "       [1.8268785 , 0.9612763 , 1.0165431 ],\n",
       "       [1.4339447 , 0.35062873, 1.0142499 ]], dtype=float32)"
      ]
     },
     "execution_count": 11,
     "metadata": {},
     "output_type": "execute_result"
    }
   ],
   "source": [
    "x.numpy()"
   ]
  },
  {
   "cell_type": "code",
   "execution_count": 1,
   "metadata": {},
   "outputs": [],
   "source": [
    "import numpy as np\n",
    "\n",
    "def cross_entropy(Y, P):\n",
    "    Y = np.float_(Y)\n",
    "    P = np.float_(P)\n",
    "    return -np.sum(Y * np.log(P) + (1 - Y) * np.log(1 - P))"
   ]
  },
  {
   "cell_type": "code",
   "execution_count": 2,
   "metadata": {},
   "outputs": [],
   "source": [
    "import numpy as np\n",
    "\n",
    "# Write a function that takes as input a list of numbers, and returns\n",
    "# the list of values given by the softmax function.\n",
    "def softmax(L):\n",
    "    norm_L = np.exp(L)\n",
    "    norm_L = np.divide(norm_L, norm_L.sum())\n",
    "    \n",
    "    return norm_L"
   ]
  },
  {
   "cell_type": "code",
   "execution_count": 7,
   "metadata": {},
   "outputs": [
    {
     "name": "stdout",
     "output_type": "stream",
     "text": [
      "Accuracy: [70 / 120] = 58.3333 \n",
      "\n"
     ]
    }
   ],
   "source": [
    "correct = 70\n",
    "total =120\n",
    "accuracy = 100 * correct / total\n",
    "print(\"Accuracy: [%d / %d] = %.4f \\n\"\n",
    "      % (correct,total,accuracy))"
   ]
  },
  {
   "cell_type": "code",
   "execution_count": null,
   "metadata": {},
   "outputs": [],
   "source": []
  }
 ],
 "metadata": {
  "kernelspec": {
   "display_name": "Python 3",
   "language": "python",
   "name": "python3"
  },
  "language_info": {
   "codemirror_mode": {
    "name": "ipython",
    "version": 3
   },
   "file_extension": ".py",
   "mimetype": "text/x-python",
   "name": "python",
   "nbconvert_exporter": "python",
   "pygments_lexer": "ipython3",
   "version": "3.6.5"
  }
 },
 "nbformat": 4,
 "nbformat_minor": 2
}
